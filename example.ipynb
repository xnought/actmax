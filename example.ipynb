{
 "cells": [
  {
   "cell_type": "code",
   "execution_count": 1,
   "metadata": {},
   "outputs": [],
   "source": [
    "from actmax import actmax"
   ]
  },
  {
   "cell_type": "code",
   "execution_count": 2,
   "metadata": {},
   "outputs": [],
   "source": [
    "import torch"
   ]
  },
  {
   "cell_type": "code",
   "execution_count": 8,
   "metadata": {},
   "outputs": [],
   "source": [
    "a = torch.randn((10000, 10000)).to(torch.float32)"
   ]
  },
  {
   "cell_type": "code",
   "execution_count": 9,
   "metadata": {},
   "outputs": [
    {
     "data": {
      "text/plain": [
       "tensor([[6.2647e-04, 0.0000e+00, 3.1882e-04,  ..., 0.0000e+00, 0.0000e+00,\n",
       "         0.0000e+00],\n",
       "        [5.1556e-04, 0.0000e+00, 4.5836e-04,  ..., 0.0000e+00, 0.0000e+00,\n",
       "         0.0000e+00],\n",
       "        [3.1872e-05, 0.0000e+00, 6.7944e-04,  ..., 0.0000e+00, 2.4710e-04,\n",
       "         1.2379e-04],\n",
       "        ...,\n",
       "        [5.6729e-04, 0.0000e+00, 0.0000e+00,  ..., 4.4636e-04, 7.1724e-04,\n",
       "         0.0000e+00],\n",
       "        [0.0000e+00, 2.9974e-04, 2.7642e-04,  ..., 0.0000e+00, 1.1964e-04,\n",
       "         0.0000e+00],\n",
       "        [4.6253e-05, 0.0000e+00, 1.5245e-04,  ..., 0.0000e+00, 1.7676e-04,\n",
       "         0.0000e+00]])"
      ]
     },
     "execution_count": 9,
     "metadata": {},
     "output_type": "execute_result"
    }
   ],
   "source": [
    "actmax(a, dim=1)"
   ]
  },
  {
   "cell_type": "code",
   "execution_count": 10,
   "metadata": {},
   "outputs": [
    {
     "data": {
      "text/plain": [
       "tensor([[7.2925e-04, 5.4623e-05, 2.1428e-04,  ..., 2.9399e-05, 5.3363e-05,\n",
       "         2.2841e-05],\n",
       "        [4.7054e-04, 3.5414e-05, 3.7502e-04,  ..., 2.3788e-05, 1.4242e-05,\n",
       "         4.2445e-05],\n",
       "        [6.7899e-05, 4.2716e-05, 8.9946e-04,  ..., 2.4270e-05, 1.6026e-04,\n",
       "         9.7980e-05],\n",
       "        ...,\n",
       "        [5.8382e-04, 1.9411e-05, 2.6115e-05,  ..., 3.5988e-04, 1.0637e-03,\n",
       "         9.0115e-06],\n",
       "        [1.8223e-05, 1.9843e-04, 1.8118e-04,  ..., 5.4225e-05, 9.8335e-05,\n",
       "         4.2184e-05],\n",
       "        [7.3849e-05, 1.3955e-05, 1.1189e-04,  ..., 1.6497e-05, 1.2306e-04,\n",
       "         3.7275e-05]])"
      ]
     },
     "execution_count": 10,
     "metadata": {},
     "output_type": "execute_result"
    }
   ],
   "source": [
    "torch.softmax(a, dim=1)"
   ]
  },
  {
   "cell_type": "code",
   "execution_count": 11,
   "metadata": {},
   "outputs": [
    {
     "name": "stdout",
     "output_type": "stream",
     "text": [
      "178 ms ± 18 ms per loop (mean ± std. dev. of 7 runs, 1 loop each)\n"
     ]
    }
   ],
   "source": [
    "%timeit torch.softmax(a, dim=1)"
   ]
  },
  {
   "cell_type": "code",
   "execution_count": 12,
   "metadata": {},
   "outputs": [
    {
     "name": "stdout",
     "output_type": "stream",
     "text": [
      "175 ms ± 1.92 ms per loop (mean ± std. dev. of 7 runs, 1 loop each)\n"
     ]
    }
   ],
   "source": [
    "%timeit actmax(a, dim=1)"
   ]
  },
  {
   "cell_type": "code",
   "execution_count": null,
   "metadata": {},
   "outputs": [],
   "source": []
  }
 ],
 "metadata": {
  "kernelspec": {
   "display_name": "Python 3",
   "language": "python",
   "name": "python3"
  },
  "language_info": {
   "codemirror_mode": {
    "name": "ipython",
    "version": 3
   },
   "file_extension": ".py",
   "mimetype": "text/x-python",
   "name": "python",
   "nbconvert_exporter": "python",
   "pygments_lexer": "ipython3",
   "version": "3.11.2"
  },
  "orig_nbformat": 4
 },
 "nbformat": 4,
 "nbformat_minor": 2
}

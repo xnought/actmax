{
 "cells": [
  {
   "cell_type": "code",
   "execution_count": 1,
   "metadata": {},
   "outputs": [],
   "source": [
    "from actnorm import actnorm"
   ]
  },
  {
   "cell_type": "code",
   "execution_count": 2,
   "metadata": {},
   "outputs": [],
   "source": [
    "import torch"
   ]
  },
  {
   "cell_type": "code",
   "execution_count": 25,
   "metadata": {},
   "outputs": [],
   "source": [
    "a = torch.randn((1000, 1000)).to(torch.float32)"
   ]
  },
  {
   "cell_type": "code",
   "execution_count": 26,
   "metadata": {},
   "outputs": [
    {
     "data": {
      "text/plain": [
       "tensor([[0.0000e+00, 3.6975e-03, 0.0000e+00,  ..., 5.3604e-03, 2.6814e-03,\n",
       "         0.0000e+00],\n",
       "        [0.0000e+00, 0.0000e+00, 0.0000e+00,  ..., 2.3369e-04, 0.0000e+00,\n",
       "         0.0000e+00],\n",
       "        [2.8117e-04, 8.3205e-04, 0.0000e+00,  ..., 1.2328e-03, 4.7002e-03,\n",
       "         1.8321e-03],\n",
       "        ...,\n",
       "        [0.0000e+00, 5.3742e-03, 4.0288e-03,  ..., 2.3346e-03, 1.2028e-03,\n",
       "         1.6706e-03],\n",
       "        [0.0000e+00, 4.6179e-05, 0.0000e+00,  ..., 8.7539e-04, 8.4595e-06,\n",
       "         3.2994e-03],\n",
       "        [0.0000e+00, 0.0000e+00, 1.9344e-03,  ..., 0.0000e+00, 6.0474e-03,\n",
       "         2.2911e-04]])"
      ]
     },
     "execution_count": 26,
     "metadata": {},
     "output_type": "execute_result"
    }
   ],
   "source": [
    "actnorm(a, dim=1)"
   ]
  },
  {
   "cell_type": "code",
   "execution_count": 27,
   "metadata": {},
   "outputs": [
    {
     "data": {
      "text/plain": [
       "tensor([[1.6504e-04, 2.7399e-03, 4.8977e-04,  ..., 5.3563e-03, 1.8190e-03,\n",
       "         1.5393e-04],\n",
       "        [4.4736e-04, 2.6645e-04, 1.4516e-04,  ..., 6.4556e-04, 3.8892e-04,\n",
       "         2.6868e-04],\n",
       "        [6.7689e-04, 8.3950e-04, 3.6605e-04,  ..., 9.8186e-04, 3.8069e-03,\n",
       "         1.2410e-03],\n",
       "        ...,\n",
       "        [1.9793e-04, 4.3514e-03, 2.7330e-03,  ..., 1.5216e-03, 1.0289e-03,\n",
       "         1.2095e-03],\n",
       "        [2.3186e-04, 5.9897e-04, 9.4394e-05,  ..., 8.2413e-04, 5.9034e-04,\n",
       "         2.0948e-03],\n",
       "        [4.3794e-04, 2.7278e-04, 1.3151e-03,  ..., 6.0474e-04, 5.9120e-03,\n",
       "         7.0525e-04]])"
      ]
     },
     "execution_count": 27,
     "metadata": {},
     "output_type": "execute_result"
    }
   ],
   "source": [
    "torch.softmax(a, dim=1)"
   ]
  },
  {
   "cell_type": "code",
   "execution_count": 28,
   "metadata": {},
   "outputs": [
    {
     "name": "stdout",
     "output_type": "stream",
     "text": [
      "1.14 ms ± 17.5 µs per loop (mean ± std. dev. of 7 runs, 1,000 loops each)\n"
     ]
    }
   ],
   "source": [
    "%timeit torch.softmax(a, dim=1)"
   ]
  },
  {
   "cell_type": "code",
   "execution_count": 29,
   "metadata": {},
   "outputs": [
    {
     "name": "stdout",
     "output_type": "stream",
     "text": [
      "461 µs ± 6.94 µs per loop (mean ± std. dev. of 7 runs, 1,000 loops each)\n"
     ]
    }
   ],
   "source": [
    "%timeit actnorm(a, dim=1)"
   ]
  },
  {
   "cell_type": "code",
   "execution_count": null,
   "metadata": {},
   "outputs": [],
   "source": []
  }
 ],
 "metadata": {
  "kernelspec": {
   "display_name": "Python 3",
   "language": "python",
   "name": "python3"
  },
  "language_info": {
   "codemirror_mode": {
    "name": "ipython",
    "version": 3
   },
   "file_extension": ".py",
   "mimetype": "text/x-python",
   "name": "python",
   "nbconvert_exporter": "python",
   "pygments_lexer": "ipython3",
   "version": "3.11.2"
  },
  "orig_nbformat": 4
 },
 "nbformat": 4,
 "nbformat_minor": 2
}
